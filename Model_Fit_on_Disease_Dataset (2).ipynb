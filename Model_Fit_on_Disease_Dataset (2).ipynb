{
  "nbformat": 4,
  "nbformat_minor": 0,
  "metadata": {
    "colab": {
      "name": "Model Fit on Disease Dataset ",
      "provenance": [],
      "collapsed_sections": []
    },
    "kernelspec": {
      "name": "python3",
      "display_name": "Python 3"
    }
  },
  "cells": [
    {
      "cell_type": "markdown",
      "metadata": {
        "id": "wyUbbrg32J1v"
      },
      "source": [
        "#MOUNT THE DATA FROM GOOGLE DRIVE"
      ]
    },
    {
      "cell_type": "code",
      "metadata": {
        "colab": {
          "base_uri": "https://localhost:8080/"
        },
        "id": "ox_T28i52GFm",
        "outputId": "b76e660b-0abf-4054-9fd5-36f2e9d8e45c"
      },
      "source": [
        "from google.colab import drive\n",
        "drive.mount('/content/drive/')"
      ],
      "execution_count": null,
      "outputs": [
        {
          "output_type": "stream",
          "text": [
            "Drive already mounted at /content/drive/; to attempt to forcibly remount, call drive.mount(\"/content/drive/\", force_remount=True).\n"
          ],
          "name": "stdout"
        }
      ]
    },
    {
      "cell_type": "markdown",
      "metadata": {
        "id": "YEsAXaSv2VCf"
      },
      "source": [
        "#IMPORT SOME lIBRARIES FOR LOADING AND MODEL"
      ]
    },
    {
      "cell_type": "code",
      "metadata": {
        "id": "H8YmEzSEVHu6"
      },
      "source": [
        "import numpy as np\n",
        "from numpy import loadtxt\n",
        "from keras.models import Sequential\n",
        "from keras.layers import Dense\n"
      ],
      "execution_count": null,
      "outputs": []
    },
    {
      "cell_type": "markdown",
      "metadata": {
        "id": "UNvFIxR80bWu"
      },
      "source": [
        "#LOADING THE DATASET"
      ]
    },
    {
      "cell_type": "code",
      "metadata": {
        "id": "l4nTop9ybtr6"
      },
      "source": [
        "dataset = loadtxt('/content/drive/MyDrive/Model Fitting Task/diseaseDataset.csv', delimiter=',')"
      ],
      "execution_count": null,
      "outputs": []
    },
    {
      "cell_type": "markdown",
      "metadata": {
        "id": "om6yqTrb10Y6"
      },
      "source": [
        "# Split into input (X) and output (y) variables"
      ]
    },
    {
      "cell_type": "code",
      "metadata": {
        "id": "RdkZqSL710qS"
      },
      "source": [
        "X = dataset[:,0:8]\n",
        "y = dataset[:,8]"
      ],
      "execution_count": null,
      "outputs": []
    },
    {
      "cell_type": "markdown",
      "metadata": {
        "id": "UQagRbk90Pes"
      },
      "source": [
        "#DEFINE THE KERAS MODEL"
      ]
    },
    {
      "cell_type": "code",
      "metadata": {
        "id": "iu7Pi_vMdGDY"
      },
      "source": [
        "model = Sequential()\n",
        "model.add(Dense(12, input_dim=8, activation='relu'))\n",
        "model.add(Dense(8, activation='relu'))\n",
        "model.add(Dense(1, activation='sigmoid'))"
      ],
      "execution_count": null,
      "outputs": []
    },
    {
      "cell_type": "markdown",
      "metadata": {
        "id": "SjEavOI700IU"
      },
      "source": [
        "#COMPILE THE KERAS MODEL"
      ]
    },
    {
      "cell_type": "code",
      "metadata": {
        "id": "INA8g9mqlt6C"
      },
      "source": [
        "\n",
        "model.compile(loss='binary_crossentropy', optimizer='adam', metrics=['accuracy'])"
      ],
      "execution_count": null,
      "outputs": []
    },
    {
      "cell_type": "markdown",
      "metadata": {
        "id": "1Gfe6O8e04Pb"
      },
      "source": [
        "#FIT THE KERAS MODEL ON THE DATASET"
      ]
    },
    {
      "cell_type": "code",
      "metadata": {
        "id": "Sr6MxXkZ66x_",
        "colab": {
          "base_uri": "https://localhost:8080/"
        },
        "outputId": "5661c6a9-5588-4ad3-d4f3-ce8c9889cd11"
      },
      "source": [
        "model.fit(X, y, epochs=150, batch_size=10)"
      ],
      "execution_count": null,
      "outputs": [
        {
          "output_type": "stream",
          "text": [
            "Epoch 1/150\n",
            "77/77 [==============================] - 1s 924us/step - loss: 7.5495 - accuracy: 0.6209\n",
            "Epoch 2/150\n",
            "77/77 [==============================] - 0s 1ms/step - loss: 1.2247 - accuracy: 0.5797\n",
            "Epoch 3/150\n",
            "77/77 [==============================] - 0s 1ms/step - loss: 0.9198 - accuracy: 0.6311\n",
            "Epoch 4/150\n",
            "77/77 [==============================] - 0s 976us/step - loss: 0.7666 - accuracy: 0.6431\n",
            "Epoch 5/150\n",
            "77/77 [==============================] - 0s 964us/step - loss: 0.6599 - accuracy: 0.6782\n",
            "Epoch 6/150\n",
            "77/77 [==============================] - 0s 1ms/step - loss: 0.6509 - accuracy: 0.6841\n",
            "Epoch 7/150\n",
            "77/77 [==============================] - 0s 1ms/step - loss: 0.6527 - accuracy: 0.6915\n",
            "Epoch 8/150\n",
            "77/77 [==============================] - 0s 1ms/step - loss: 0.6566 - accuracy: 0.6615\n",
            "Epoch 9/150\n",
            "77/77 [==============================] - 0s 1ms/step - loss: 0.6045 - accuracy: 0.7003\n",
            "Epoch 10/150\n",
            "77/77 [==============================] - 0s 1ms/step - loss: 0.6151 - accuracy: 0.6982\n",
            "Epoch 11/150\n",
            "77/77 [==============================] - 0s 1ms/step - loss: 0.6074 - accuracy: 0.6752\n",
            "Epoch 12/150\n",
            "77/77 [==============================] - 0s 1ms/step - loss: 0.5639 - accuracy: 0.7361\n",
            "Epoch 13/150\n",
            "77/77 [==============================] - 0s 1ms/step - loss: 0.6093 - accuracy: 0.6901\n",
            "Epoch 14/150\n",
            "77/77 [==============================] - 0s 1ms/step - loss: 0.5766 - accuracy: 0.7160\n",
            "Epoch 15/150\n",
            "77/77 [==============================] - 0s 1ms/step - loss: 0.6170 - accuracy: 0.6968\n",
            "Epoch 16/150\n",
            "77/77 [==============================] - 0s 994us/step - loss: 0.5985 - accuracy: 0.6881\n",
            "Epoch 17/150\n",
            "77/77 [==============================] - 0s 1ms/step - loss: 0.6257 - accuracy: 0.6594\n",
            "Epoch 18/150\n",
            "77/77 [==============================] - 0s 1ms/step - loss: 0.6253 - accuracy: 0.6947\n",
            "Epoch 19/150\n",
            "77/77 [==============================] - 0s 988us/step - loss: 0.6154 - accuracy: 0.6947\n",
            "Epoch 20/150\n",
            "77/77 [==============================] - 0s 1ms/step - loss: 0.6212 - accuracy: 0.6712\n",
            "Epoch 21/150\n",
            "77/77 [==============================] - 0s 1ms/step - loss: 0.5830 - accuracy: 0.6863\n",
            "Epoch 22/150\n",
            "77/77 [==============================] - 0s 1ms/step - loss: 0.6110 - accuracy: 0.6933\n",
            "Epoch 23/150\n",
            "77/77 [==============================] - 0s 959us/step - loss: 0.5875 - accuracy: 0.6979\n",
            "Epoch 24/150\n",
            "77/77 [==============================] - 0s 1ms/step - loss: 0.5670 - accuracy: 0.7157\n",
            "Epoch 25/150\n",
            "77/77 [==============================] - 0s 957us/step - loss: 0.5715 - accuracy: 0.6962\n",
            "Epoch 26/150\n",
            "77/77 [==============================] - 0s 1ms/step - loss: 0.6026 - accuracy: 0.6976\n",
            "Epoch 27/150\n",
            "77/77 [==============================] - 0s 999us/step - loss: 0.5786 - accuracy: 0.7119\n",
            "Epoch 28/150\n",
            "77/77 [==============================] - 0s 1ms/step - loss: 0.5729 - accuracy: 0.7100\n",
            "Epoch 29/150\n",
            "77/77 [==============================] - 0s 1ms/step - loss: 0.5961 - accuracy: 0.6932\n",
            "Epoch 30/150\n",
            "77/77 [==============================] - 0s 1ms/step - loss: 0.6092 - accuracy: 0.6666\n",
            "Epoch 31/150\n",
            "77/77 [==============================] - 0s 950us/step - loss: 0.5717 - accuracy: 0.7308\n",
            "Epoch 32/150\n",
            "77/77 [==============================] - 0s 980us/step - loss: 0.5657 - accuracy: 0.7325\n",
            "Epoch 33/150\n",
            "77/77 [==============================] - 0s 1ms/step - loss: 0.5662 - accuracy: 0.6897\n",
            "Epoch 34/150\n",
            "77/77 [==============================] - 0s 1ms/step - loss: 0.5853 - accuracy: 0.6969\n",
            "Epoch 35/150\n",
            "77/77 [==============================] - 0s 942us/step - loss: 0.5648 - accuracy: 0.7180\n",
            "Epoch 36/150\n",
            "77/77 [==============================] - 0s 1ms/step - loss: 0.5438 - accuracy: 0.7080\n",
            "Epoch 37/150\n",
            "77/77 [==============================] - 0s 1ms/step - loss: 0.5437 - accuracy: 0.7325\n",
            "Epoch 38/150\n",
            "77/77 [==============================] - 0s 1ms/step - loss: 0.5654 - accuracy: 0.7015\n",
            "Epoch 39/150\n",
            "77/77 [==============================] - 0s 999us/step - loss: 0.5399 - accuracy: 0.7203\n",
            "Epoch 40/150\n",
            "77/77 [==============================] - 0s 1ms/step - loss: 0.5590 - accuracy: 0.6811\n",
            "Epoch 41/150\n",
            "77/77 [==============================] - 0s 1ms/step - loss: 0.5557 - accuracy: 0.7169\n",
            "Epoch 42/150\n",
            "77/77 [==============================] - 0s 1ms/step - loss: 0.5408 - accuracy: 0.7210\n",
            "Epoch 43/150\n",
            "77/77 [==============================] - 0s 1ms/step - loss: 0.5269 - accuracy: 0.7260\n",
            "Epoch 44/150\n",
            "77/77 [==============================] - 0s 1ms/step - loss: 0.5964 - accuracy: 0.6961\n",
            "Epoch 45/150\n",
            "77/77 [==============================] - 0s 1ms/step - loss: 0.5696 - accuracy: 0.7007\n",
            "Epoch 46/150\n",
            "77/77 [==============================] - 0s 1ms/step - loss: 0.5286 - accuracy: 0.7323\n",
            "Epoch 47/150\n",
            "77/77 [==============================] - 0s 1ms/step - loss: 0.5504 - accuracy: 0.7098\n",
            "Epoch 48/150\n",
            "77/77 [==============================] - 0s 1ms/step - loss: 0.5732 - accuracy: 0.7150\n",
            "Epoch 49/150\n",
            "77/77 [==============================] - 0s 967us/step - loss: 0.5516 - accuracy: 0.7265\n",
            "Epoch 50/150\n",
            "77/77 [==============================] - 0s 985us/step - loss: 0.5444 - accuracy: 0.7361\n",
            "Epoch 51/150\n",
            "77/77 [==============================] - 0s 1ms/step - loss: 0.5334 - accuracy: 0.7296\n",
            "Epoch 52/150\n",
            "77/77 [==============================] - 0s 1ms/step - loss: 0.5520 - accuracy: 0.7267\n",
            "Epoch 53/150\n",
            "77/77 [==============================] - 0s 1ms/step - loss: 0.5157 - accuracy: 0.7383\n",
            "Epoch 54/150\n",
            "77/77 [==============================] - 0s 1ms/step - loss: 0.5860 - accuracy: 0.7051\n",
            "Epoch 55/150\n",
            "77/77 [==============================] - 0s 1ms/step - loss: 0.5364 - accuracy: 0.7457\n",
            "Epoch 56/150\n",
            "77/77 [==============================] - 0s 1ms/step - loss: 0.5531 - accuracy: 0.7149\n",
            "Epoch 57/150\n",
            "77/77 [==============================] - 0s 1ms/step - loss: 0.5080 - accuracy: 0.7639\n",
            "Epoch 58/150\n",
            "77/77 [==============================] - 0s 1ms/step - loss: 0.5248 - accuracy: 0.7380\n",
            "Epoch 59/150\n",
            "77/77 [==============================] - 0s 989us/step - loss: 0.5290 - accuracy: 0.7479\n",
            "Epoch 60/150\n",
            "77/77 [==============================] - 0s 1ms/step - loss: 0.5063 - accuracy: 0.7620\n",
            "Epoch 61/150\n",
            "77/77 [==============================] - 0s 1ms/step - loss: 0.5466 - accuracy: 0.7323\n",
            "Epoch 62/150\n",
            "77/77 [==============================] - 0s 1ms/step - loss: 0.5008 - accuracy: 0.7518\n",
            "Epoch 63/150\n",
            "77/77 [==============================] - 0s 1ms/step - loss: 0.5213 - accuracy: 0.7513\n",
            "Epoch 64/150\n",
            "77/77 [==============================] - 0s 1ms/step - loss: 0.5152 - accuracy: 0.7550\n",
            "Epoch 65/150\n",
            "77/77 [==============================] - 0s 1ms/step - loss: 0.5202 - accuracy: 0.7210\n",
            "Epoch 66/150\n",
            "77/77 [==============================] - 0s 1ms/step - loss: 0.5087 - accuracy: 0.7692\n",
            "Epoch 67/150\n",
            "77/77 [==============================] - 0s 1ms/step - loss: 0.5419 - accuracy: 0.7106\n",
            "Epoch 68/150\n",
            "77/77 [==============================] - 0s 1ms/step - loss: 0.5081 - accuracy: 0.7541\n",
            "Epoch 69/150\n",
            "77/77 [==============================] - 0s 1ms/step - loss: 0.5448 - accuracy: 0.7367\n",
            "Epoch 70/150\n",
            "77/77 [==============================] - 0s 1ms/step - loss: 0.5745 - accuracy: 0.7032\n",
            "Epoch 71/150\n",
            "77/77 [==============================] - 0s 1ms/step - loss: 0.5671 - accuracy: 0.7049\n",
            "Epoch 72/150\n",
            "77/77 [==============================] - 0s 931us/step - loss: 0.4996 - accuracy: 0.7610\n",
            "Epoch 73/150\n",
            "77/77 [==============================] - 0s 978us/step - loss: 0.5363 - accuracy: 0.7454\n",
            "Epoch 74/150\n",
            "77/77 [==============================] - 0s 952us/step - loss: 0.5157 - accuracy: 0.7403\n",
            "Epoch 75/150\n",
            "77/77 [==============================] - 0s 1ms/step - loss: 0.4885 - accuracy: 0.7944\n",
            "Epoch 76/150\n",
            "77/77 [==============================] - 0s 1ms/step - loss: 0.5132 - accuracy: 0.7672\n",
            "Epoch 77/150\n",
            "77/77 [==============================] - 0s 1ms/step - loss: 0.5276 - accuracy: 0.7315\n",
            "Epoch 78/150\n",
            "77/77 [==============================] - 0s 1ms/step - loss: 0.4558 - accuracy: 0.7865\n",
            "Epoch 79/150\n",
            "77/77 [==============================] - 0s 1ms/step - loss: 0.4822 - accuracy: 0.7507\n",
            "Epoch 80/150\n",
            "77/77 [==============================] - 0s 1ms/step - loss: 0.5213 - accuracy: 0.7382\n",
            "Epoch 81/150\n",
            "77/77 [==============================] - 0s 1ms/step - loss: 0.5244 - accuracy: 0.7462\n",
            "Epoch 82/150\n",
            "77/77 [==============================] - 0s 1ms/step - loss: 0.5064 - accuracy: 0.7415\n",
            "Epoch 83/150\n",
            "77/77 [==============================] - 0s 1ms/step - loss: 0.5193 - accuracy: 0.7698\n",
            "Epoch 84/150\n",
            "77/77 [==============================] - 0s 975us/step - loss: 0.5034 - accuracy: 0.7487\n",
            "Epoch 85/150\n",
            "77/77 [==============================] - 0s 1ms/step - loss: 0.4863 - accuracy: 0.7494\n",
            "Epoch 86/150\n",
            "77/77 [==============================] - 0s 1ms/step - loss: 0.5063 - accuracy: 0.7710\n",
            "Epoch 87/150\n",
            "77/77 [==============================] - 0s 1ms/step - loss: 0.5031 - accuracy: 0.7520\n",
            "Epoch 88/150\n",
            "77/77 [==============================] - 0s 1ms/step - loss: 0.5077 - accuracy: 0.7383\n",
            "Epoch 89/150\n",
            "77/77 [==============================] - 0s 1ms/step - loss: 0.5083 - accuracy: 0.7684\n",
            "Epoch 90/150\n",
            "77/77 [==============================] - 0s 1ms/step - loss: 0.4770 - accuracy: 0.7751\n",
            "Epoch 91/150\n",
            "77/77 [==============================] - 0s 1ms/step - loss: 0.5612 - accuracy: 0.7259\n",
            "Epoch 92/150\n",
            "77/77 [==============================] - 0s 1ms/step - loss: 0.4855 - accuracy: 0.7626\n",
            "Epoch 93/150\n",
            "77/77 [==============================] - 0s 1ms/step - loss: 0.4623 - accuracy: 0.7849\n",
            "Epoch 94/150\n",
            "77/77 [==============================] - 0s 1ms/step - loss: 0.5270 - accuracy: 0.7186\n",
            "Epoch 95/150\n",
            "77/77 [==============================] - 0s 1ms/step - loss: 0.5430 - accuracy: 0.7197\n",
            "Epoch 96/150\n",
            "77/77 [==============================] - 0s 1ms/step - loss: 0.4930 - accuracy: 0.7566\n",
            "Epoch 97/150\n",
            "77/77 [==============================] - 0s 1ms/step - loss: 0.5704 - accuracy: 0.7016\n",
            "Epoch 98/150\n",
            "77/77 [==============================] - 0s 1ms/step - loss: 0.4781 - accuracy: 0.7715\n",
            "Epoch 99/150\n",
            "77/77 [==============================] - 0s 978us/step - loss: 0.4918 - accuracy: 0.7434\n",
            "Epoch 100/150\n",
            "77/77 [==============================] - 0s 1ms/step - loss: 0.4632 - accuracy: 0.7830\n",
            "Epoch 101/150\n",
            "77/77 [==============================] - 0s 1ms/step - loss: 0.5095 - accuracy: 0.7568\n",
            "Epoch 102/150\n",
            "77/77 [==============================] - 0s 1ms/step - loss: 0.4958 - accuracy: 0.7595\n",
            "Epoch 103/150\n",
            "77/77 [==============================] - 0s 1ms/step - loss: 0.5196 - accuracy: 0.7220\n",
            "Epoch 104/150\n",
            "77/77 [==============================] - 0s 1ms/step - loss: 0.4996 - accuracy: 0.7637\n",
            "Epoch 105/150\n",
            "77/77 [==============================] - 0s 1ms/step - loss: 0.5076 - accuracy: 0.7560\n",
            "Epoch 106/150\n",
            "77/77 [==============================] - 0s 963us/step - loss: 0.4693 - accuracy: 0.7743\n",
            "Epoch 107/150\n",
            "77/77 [==============================] - 0s 1ms/step - loss: 0.4710 - accuracy: 0.7891\n",
            "Epoch 108/150\n",
            "77/77 [==============================] - 0s 1ms/step - loss: 0.4955 - accuracy: 0.7681\n",
            "Epoch 109/150\n",
            "77/77 [==============================] - 0s 1ms/step - loss: 0.4938 - accuracy: 0.7610\n",
            "Epoch 110/150\n",
            "77/77 [==============================] - 0s 1ms/step - loss: 0.5049 - accuracy: 0.7842\n",
            "Epoch 111/150\n",
            "77/77 [==============================] - 0s 1ms/step - loss: 0.4707 - accuracy: 0.7966\n",
            "Epoch 112/150\n",
            "77/77 [==============================] - 0s 1ms/step - loss: 0.4849 - accuracy: 0.7563\n",
            "Epoch 113/150\n",
            "77/77 [==============================] - 0s 1ms/step - loss: 0.4924 - accuracy: 0.7330\n",
            "Epoch 114/150\n",
            "77/77 [==============================] - 0s 1ms/step - loss: 0.4866 - accuracy: 0.7767\n",
            "Epoch 115/150\n",
            "77/77 [==============================] - 0s 1ms/step - loss: 0.4707 - accuracy: 0.7819\n",
            "Epoch 116/150\n",
            "77/77 [==============================] - 0s 1ms/step - loss: 0.5048 - accuracy: 0.7478\n",
            "Epoch 117/150\n",
            "77/77 [==============================] - 0s 1ms/step - loss: 0.4938 - accuracy: 0.7752\n",
            "Epoch 118/150\n",
            "77/77 [==============================] - 0s 992us/step - loss: 0.4735 - accuracy: 0.7767\n",
            "Epoch 119/150\n",
            "77/77 [==============================] - 0s 1ms/step - loss: 0.4787 - accuracy: 0.7639\n",
            "Epoch 120/150\n",
            "77/77 [==============================] - 0s 1ms/step - loss: 0.4951 - accuracy: 0.7670\n",
            "Epoch 121/150\n",
            "77/77 [==============================] - 0s 1ms/step - loss: 0.4730 - accuracy: 0.7719\n",
            "Epoch 122/150\n",
            "77/77 [==============================] - 0s 1ms/step - loss: 0.4802 - accuracy: 0.7901\n",
            "Epoch 123/150\n",
            "77/77 [==============================] - 0s 1ms/step - loss: 0.4745 - accuracy: 0.7896\n",
            "Epoch 124/150\n",
            "77/77 [==============================] - 0s 1ms/step - loss: 0.5032 - accuracy: 0.7562\n",
            "Epoch 125/150\n",
            "77/77 [==============================] - 0s 1ms/step - loss: 0.4690 - accuracy: 0.7649\n",
            "Epoch 126/150\n",
            "77/77 [==============================] - 0s 989us/step - loss: 0.4839 - accuracy: 0.7636\n",
            "Epoch 127/150\n",
            "77/77 [==============================] - 0s 1ms/step - loss: 0.5126 - accuracy: 0.7188\n",
            "Epoch 128/150\n",
            "77/77 [==============================] - 0s 1ms/step - loss: 0.4668 - accuracy: 0.7626\n",
            "Epoch 129/150\n",
            "77/77 [==============================] - 0s 1ms/step - loss: 0.5507 - accuracy: 0.7186\n",
            "Epoch 130/150\n",
            "77/77 [==============================] - 0s 1ms/step - loss: 0.4990 - accuracy: 0.7732\n",
            "Epoch 131/150\n",
            "77/77 [==============================] - 0s 958us/step - loss: 0.4560 - accuracy: 0.7786\n",
            "Epoch 132/150\n",
            "77/77 [==============================] - 0s 1ms/step - loss: 0.4896 - accuracy: 0.7716\n",
            "Epoch 133/150\n",
            "77/77 [==============================] - 0s 1ms/step - loss: 0.4548 - accuracy: 0.7752\n",
            "Epoch 134/150\n",
            "77/77 [==============================] - 0s 1ms/step - loss: 0.5024 - accuracy: 0.7464\n",
            "Epoch 135/150\n",
            "77/77 [==============================] - 0s 1ms/step - loss: 0.4657 - accuracy: 0.7863\n",
            "Epoch 136/150\n",
            "77/77 [==============================] - 0s 1ms/step - loss: 0.5042 - accuracy: 0.7420\n",
            "Epoch 137/150\n",
            "77/77 [==============================] - 0s 1ms/step - loss: 0.5003 - accuracy: 0.7452\n",
            "Epoch 138/150\n",
            "77/77 [==============================] - 0s 1ms/step - loss: 0.4768 - accuracy: 0.7727\n",
            "Epoch 139/150\n",
            "77/77 [==============================] - 0s 1ms/step - loss: 0.4916 - accuracy: 0.7650\n",
            "Epoch 140/150\n",
            "77/77 [==============================] - 0s 1ms/step - loss: 0.4543 - accuracy: 0.8003\n",
            "Epoch 141/150\n",
            "77/77 [==============================] - 0s 1ms/step - loss: 0.4720 - accuracy: 0.7747\n",
            "Epoch 142/150\n",
            "77/77 [==============================] - 0s 1ms/step - loss: 0.5177 - accuracy: 0.7413\n",
            "Epoch 143/150\n",
            "77/77 [==============================] - 0s 1ms/step - loss: 0.5239 - accuracy: 0.7301\n",
            "Epoch 144/150\n",
            "77/77 [==============================] - 0s 1ms/step - loss: 0.4652 - accuracy: 0.7925\n",
            "Epoch 145/150\n",
            "77/77 [==============================] - 0s 1ms/step - loss: 0.4822 - accuracy: 0.7653\n",
            "Epoch 146/150\n",
            "77/77 [==============================] - 0s 1ms/step - loss: 0.4772 - accuracy: 0.7582\n",
            "Epoch 147/150\n",
            "77/77 [==============================] - 0s 1ms/step - loss: 0.4722 - accuracy: 0.7807\n",
            "Epoch 148/150\n",
            "77/77 [==============================] - 0s 1ms/step - loss: 0.4562 - accuracy: 0.7910\n",
            "Epoch 149/150\n",
            "77/77 [==============================] - 0s 1ms/step - loss: 0.4499 - accuracy: 0.8107\n",
            "Epoch 150/150\n",
            "77/77 [==============================] - 0s 1ms/step - loss: 0.5145 - accuracy: 0.7583\n"
          ],
          "name": "stdout"
        },
        {
          "output_type": "execute_result",
          "data": {
            "text/plain": [
              "<tensorflow.python.keras.callbacks.History at 0x7f98e7010b90>"
            ]
          },
          "metadata": {
            "tags": []
          },
          "execution_count": 7
        }
      ]
    },
    {
      "cell_type": "markdown",
      "metadata": {
        "id": "fWaP6W6s1Hn1"
      },
      "source": [
        "#EVALUATE THE KERAS MODEL"
      ]
    },
    {
      "cell_type": "code",
      "metadata": {
        "colab": {
          "base_uri": "https://localhost:8080/"
        },
        "id": "JbyJ7uXE3PQp",
        "outputId": "6a687198-41a4-4b10-c60d-8aa87a3c4f20"
      },
      "source": [
        "_, accuracy = model.evaluate(X, y)\n",
        "print('Accuracy: %.2f' % (accuracy*100))"
      ],
      "execution_count": null,
      "outputs": [
        {
          "output_type": "stream",
          "text": [
            "24/24 [==============================] - 0s 957us/step - loss: 0.4521 - accuracy: 0.7917\n",
            "Accuracy: 79.17\n"
          ],
          "name": "stdout"
        }
      ]
    },
    {
      "cell_type": "markdown",
      "metadata": {
        "id": "-P5mm6ar1T7z"
      },
      "source": [
        "#MAKE PROBABILITY PREDICTIONS WITH THE MODEL"
      ]
    },
    {
      "cell_type": "code",
      "metadata": {
        "id": "P5GFYOFE3mAo"
      },
      "source": [
        "predictions = model.predict(X)"
      ],
      "execution_count": null,
      "outputs": []
    },
    {
      "cell_type": "markdown",
      "metadata": {
        "id": "_h4dg8-O1qIM"
      },
      "source": [
        "# SUMMARIZE THE FIRST FIVE CASE"
      ]
    },
    {
      "cell_type": "code",
      "metadata": {
        "id": "AoUw3I7b3wu2",
        "colab": {
          "base_uri": "https://localhost:8080/"
        },
        "outputId": "01977bcf-5289-4790-f25d-a744fd985da9"
      },
      "source": [
        "for i in range(5):\n",
        "\tprint('%s => %d (expected %d)' % (X[i].tolist(), predictions[i], y[i]))"
      ],
      "execution_count": null,
      "outputs": [
        {
          "output_type": "stream",
          "text": [
            "[6.0, 148.0, 72.0, 35.0, 0.0, 33.6, 0.627, 50.0] => 0 (expected 1)\n",
            "[1.0, 85.0, 66.0, 29.0, 0.0, 26.6, 0.351, 31.0] => 0 (expected 0)\n",
            "[8.0, 183.0, 64.0, 0.0, 0.0, 23.3, 0.672, 32.0] => 0 (expected 1)\n",
            "[1.0, 89.0, 66.0, 23.0, 94.0, 28.1, 0.167, 21.0] => 0 (expected 0)\n",
            "[0.0, 137.0, 40.0, 35.0, 168.0, 43.1, 2.288, 33.0] => 0 (expected 1)\n"
          ],
          "name": "stdout"
        }
      ]
    },
    {
      "cell_type": "code",
      "metadata": {
        "id": "MqH7iHj030rg"
      },
      "source": [
        ""
      ],
      "execution_count": null,
      "outputs": []
    }
  ]
}